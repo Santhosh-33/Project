{
 "cells": [
  {
   "cell_type": "markdown",
   "id": "f8983c3a",
   "metadata": {},
   "source": [
    "## Santhosh S\n",
    "## 225229133\n",
    "## SMA lab 4"
   ]
  },
  {
   "cell_type": "markdown",
   "id": "bc78c737",
   "metadata": {},
   "source": [
    "#   "
   ]
  },
  {
   "cell_type": "code",
   "execution_count": 1,
   "id": "88658435",
   "metadata": {},
   "outputs": [],
   "source": [
    "import pandas as pd"
   ]
  },
  {
   "cell_type": "code",
   "execution_count": 2,
   "id": "90b5a5ac",
   "metadata": {},
   "outputs": [],
   "source": [
    "data=pd.read_csv(\"Connections.csv\")"
   ]
  },
  {
   "cell_type": "code",
   "execution_count": 3,
   "id": "76d55b03",
   "metadata": {},
   "outputs": [
    {
     "data": {
      "text/html": [
       "<div>\n",
       "<style scoped>\n",
       "    .dataframe tbody tr th:only-of-type {\n",
       "        vertical-align: middle;\n",
       "    }\n",
       "\n",
       "    .dataframe tbody tr th {\n",
       "        vertical-align: top;\n",
       "    }\n",
       "\n",
       "    .dataframe thead th {\n",
       "        text-align: right;\n",
       "    }\n",
       "</style>\n",
       "<table border=\"1\" class=\"dataframe\">\n",
       "  <thead>\n",
       "    <tr style=\"text-align: right;\">\n",
       "      <th></th>\n",
       "      <th>First Name</th>\n",
       "      <th>Last Name</th>\n",
       "      <th>URL</th>\n",
       "      <th>Email Address</th>\n",
       "      <th>Company</th>\n",
       "      <th>Position</th>\n",
       "      <th>Connected On</th>\n",
       "    </tr>\n",
       "  </thead>\n",
       "  <tbody>\n",
       "    <tr>\n",
       "      <th>0</th>\n",
       "      <td>Arockia</td>\n",
       "      <td>Rexy</td>\n",
       "      <td>https://www.linkedin.com/in/arockia-rexy-b2031...</td>\n",
       "      <td>NaN</td>\n",
       "      <td>NaN</td>\n",
       "      <td>NaN</td>\n",
       "      <td>27-Jul-23</td>\n",
       "    </tr>\n",
       "    <tr>\n",
       "      <th>1</th>\n",
       "      <td>Santhosh</td>\n",
       "      <td>Selvam</td>\n",
       "      <td>https://www.linkedin.com/in/santhosh-selvam-85...</td>\n",
       "      <td>NaN</td>\n",
       "      <td>NaN</td>\n",
       "      <td>NaN</td>\n",
       "      <td>27-Jul-23</td>\n",
       "    </tr>\n",
       "    <tr>\n",
       "      <th>2</th>\n",
       "      <td>Annapoornima</td>\n",
       "      <td>S</td>\n",
       "      <td>https://www.linkedin.com/in/annapoornima-s-5b5...</td>\n",
       "      <td>NaN</td>\n",
       "      <td>NaN</td>\n",
       "      <td>NaN</td>\n",
       "      <td>24-Jul-23</td>\n",
       "    </tr>\n",
       "    <tr>\n",
       "      <th>3</th>\n",
       "      <td>Hariharan</td>\n",
       "      <td>S</td>\n",
       "      <td>https://www.linkedin.com/in/hariharan-s-12a016224</td>\n",
       "      <td>NaN</td>\n",
       "      <td>NaN</td>\n",
       "      <td>NaN</td>\n",
       "      <td>23-Jul-23</td>\n",
       "    </tr>\n",
       "    <tr>\n",
       "      <th>4</th>\n",
       "      <td>Manickavalli</td>\n",
       "      <td>Nachiappan</td>\n",
       "      <td>https://www.linkedin.com/in/manickavalli-nachi...</td>\n",
       "      <td>NaN</td>\n",
       "      <td>Wipro Technologies</td>\n",
       "      <td>People Ambassador</td>\n",
       "      <td>17-Jul-23</td>\n",
       "    </tr>\n",
       "  </tbody>\n",
       "</table>\n",
       "</div>"
      ],
      "text/plain": [
       "     First Name   Last Name  \\\n",
       "0       Arockia        Rexy   \n",
       "1      Santhosh      Selvam   \n",
       "2  Annapoornima           S   \n",
       "3     Hariharan           S   \n",
       "4  Manickavalli  Nachiappan   \n",
       "\n",
       "                                                 URL  Email Address  \\\n",
       "0  https://www.linkedin.com/in/arockia-rexy-b2031...            NaN   \n",
       "1  https://www.linkedin.com/in/santhosh-selvam-85...            NaN   \n",
       "2  https://www.linkedin.com/in/annapoornima-s-5b5...            NaN   \n",
       "3  https://www.linkedin.com/in/hariharan-s-12a016224            NaN   \n",
       "4  https://www.linkedin.com/in/manickavalli-nachi...            NaN   \n",
       "\n",
       "               Company           Position Connected On  \n",
       "0                  NaN                NaN    27-Jul-23  \n",
       "1                  NaN                NaN    27-Jul-23  \n",
       "2                  NaN                NaN    24-Jul-23  \n",
       "3                  NaN                NaN    23-Jul-23  \n",
       "4  Wipro Technologies   People Ambassador    17-Jul-23  "
      ]
     },
     "execution_count": 3,
     "metadata": {},
     "output_type": "execute_result"
    }
   ],
   "source": [
    "data.head()"
   ]
  },
  {
   "cell_type": "code",
   "execution_count": 4,
   "id": "972433b8",
   "metadata": {},
   "outputs": [
    {
     "data": {
      "text/plain": [
       "First Name        object\n",
       "Last Name         object\n",
       "URL               object\n",
       "Email Address    float64\n",
       "Company           object\n",
       "Position          object\n",
       "Connected On      object\n",
       "dtype: object"
      ]
     },
     "execution_count": 4,
     "metadata": {},
     "output_type": "execute_result"
    }
   ],
   "source": [
    "data.dtypes\n"
   ]
  },
  {
   "cell_type": "code",
   "execution_count": 5,
   "id": "ffa0607b",
   "metadata": {},
   "outputs": [],
   "source": [
    "data.dropna(subset=['Company'], inplace=True)"
   ]
  },
  {
   "cell_type": "code",
   "execution_count": 6,
   "id": "e9c547df",
   "metadata": {
    "scrolled": true
   },
   "outputs": [
    {
     "data": {
      "text/plain": [
       "Bishop Heber College, Tiruchirappalli - 620 017.    7\n",
       "MENMOZHI TECHNOLOGIES                               2\n",
       "Innova Solutions                                    2\n",
       "Wipro Technologies                                  1\n",
       "Zuci Systems                                        1\n",
       "Googla InfoTech                                     1\n",
       "Besten Engineers and Consultants India Pvt Ltd      1\n",
       "Colan Infotech Private Limited                      1\n",
       "STERIL-GENE LIFE SCIENCES PRIVATE LIMITED           1\n",
       "Actify Data Labs                                    1\n",
       "Nitroware Technology                                1\n",
       "COZYSTAY TECHNOLOGIES PRIVATE LIMITED               1\n",
       "Infoziant                                           1\n",
       "iNeuron.ai                                          1\n",
       " International Journal of Computer Science          1\n",
       "MedTourEasy                                         1\n",
       "Bishop Heber College                                1\n",
       "Astellas Pharma                                     1\n",
       "Norwin Technology                                   1\n",
       "Everlast Wellness Medical Center EWMC               1\n",
       "Manipal Health Enterprises Pvt. Ltd                 1\n",
       "Indian Institute of Technology, Madras              1\n",
       "Oasis Infobyte                                      1\n",
       "Larsen & Toubro                                     1\n",
       "SYNC INTERN'S                                       1\n",
       "V R Della Infotech INC                              1\n",
       "Suven Consultants and Technology Pvt.Ltd.           1\n",
       "ZF Rane Automotive India Private Limited            1\n",
       "Akshera Yuva Kids                                   1\n",
       "Ameyacloud Solutions                                1\n",
       "Calibraint                                          1\n",
       "Name: Company, dtype: int64"
      ]
     },
     "execution_count": 6,
     "metadata": {},
     "output_type": "execute_result"
    }
   ],
   "source": [
    "data['Company'].value_counts()"
   ]
  },
  {
   "cell_type": "code",
   "execution_count": 9,
   "id": "fb0f2520",
   "metadata": {
    "collapsed": true
   },
   "outputs": [
    {
     "data": {
      "text/plain": [
       "Data Science Intern                                         3\n",
       "Data Scientist                                              2\n",
       "Technical Recruiter                                         1\n",
       "Editorial Board Member                                      1\n",
       "Recruiter                                                   1\n",
       "Test Engineer                                               1\n",
       "Assistant Professor                                         1\n",
       "Assistant Professor, Department of Mathematics              1\n",
       "Fresher                                                     1\n",
       "People Ambassador                                           1\n",
       "Data Analyst                                                1\n",
       "Workday Consultant                                          1\n",
       "Python (Django)                                             1\n",
       "Intern                                                      1\n",
       "Junior management trainee                                   1\n",
       "Software Engineer                                           1\n",
       "Human Resources Executive                                   1\n",
       "Human Resources Coordinator                                 1\n",
       "Guest Lecturer                                              1\n",
       "Business intelligence and analytics intern                  1\n",
       "Toc Analyst                                                 1\n",
       "Chief Advisor - Centre for Data and Information Services    1\n",
       "Masters Student                                             1\n",
       "Marketing Assistant Cum Junior Accountant                   1\n",
       "Lead officer Liver Transplant.Manipal Hospital Group.       1\n",
       "Associate Professor                                         1\n",
       "Employer                                                    1\n",
       "Artificial Intelligence workshop                            1\n",
       "Machine Learning Intern                                     1\n",
       "Python Developer                                            1\n",
       "Student                                                     1\n",
       "Full Stack Developer                                        1\n",
       "Management Trainee                                          1\n",
       "Teaching Professional                                       1\n",
       "Business Development Executive                              1\n",
       "HR Recruiter                                                1\n",
       "Name: Position, dtype: int64"
      ]
     },
     "execution_count": 9,
     "metadata": {},
     "output_type": "execute_result"
    }
   ],
   "source": [
    "data['Position'].value_counts()"
   ]
  },
  {
   "cell_type": "code",
   "execution_count": 10,
   "id": "9f477498",
   "metadata": {},
   "outputs": [],
   "source": [
    "def remove_company_suffix(org):\n",
    "    if pd.notna(org):\n",
    "        suffixes = [\"Inc.\", \"Ltd.\", \"Corp.\", \"LLC\", \"Co.\", \"AG\", \"GmbH\", \"BV\", \"S.A.\", \"Pvt. Ltd.\", \"LLP\"]\n",
    "        for suffix in suffixes:\n",
    "            org = org.replace(suffix, \"\").strip()\n",
    "    return org"
   ]
  },
  {
   "cell_type": "code",
   "execution_count": 11,
   "id": "1b736319",
   "metadata": {},
   "outputs": [
    {
     "data": {
      "text/plain": [
       "4                                   Wipro Technologies\n",
       "5                                    Norwin Technology\n",
       "6                                 Ameyacloud Solutions\n",
       "8                                    Akshera Yuva Kids\n",
       "13            ZF Rane Automotive India Private Limited\n",
       "14               Suven Consultants and Technology Pvt.\n",
       "15    Bishop Heber College, Tiruchirappalli - 620 017.\n",
       "17                              V R Della Infotech INC\n",
       "22                                       SYNC INTERN'S\n",
       "27                                     Larsen & Toubro\n",
       "28                                      Oasis Infobyte\n",
       "30              Indian Institute of Technology, Madras\n",
       "31                               MENMOZHI TECHNOLOGIES\n",
       "32    Bishop Heber College, Tiruchirappalli - 620 017.\n",
       "34                 Manipal Health Enterprises Pvt. Ltd\n",
       "36               Everlast Wellness Medical Center EWMC\n",
       "37                                Bishop Heber College\n",
       "39                                     Astellas Pharma\n",
       "41    Bishop Heber College, Tiruchirappalli - 620 017.\n",
       "42                                        Zuci Systems\n",
       "43                                         MedTourEasy\n",
       "44    Bishop Heber College, Tiruchirappalli - 620 017.\n",
       "46           International Journal of Computer Science\n",
       "47                                    Innova Solutions\n",
       "48                                          iNeuron.ai\n",
       "49                                           Infoziant\n",
       "50    Bishop Heber College, Tiruchirappalli - 620 017.\n",
       "51    Bishop Heber College, Tiruchirappalli - 620 017.\n",
       "52    Bishop Heber College, Tiruchirappalli - 620 017.\n",
       "57                                    Innova Solutions\n",
       "60               COZYSTAY TECHNOLOGIES PRIVATE LIMITED\n",
       "61                                Nitroware Technology\n",
       "62                               MENMOZHI TECHNOLOGIES\n",
       "63                                    Actify Data Labs\n",
       "64           STERIL-GENE LIFE SCIENCES PRIVATE LIMITED\n",
       "65                      Colan Infotech Private Limited\n",
       "69      Besten Engineers and Consultants India Pvt Ltd\n",
       "71                                     Googla InfoTech\n",
       "72                                          Calibraint\n",
       "Name: Company, dtype: object"
      ]
     },
     "execution_count": 11,
     "metadata": {},
     "output_type": "execute_result"
    }
   ],
   "source": [
    "data['Company']=data['Company'].apply(remove_company_suffix)\n",
    "data['Company']"
   ]
  },
  {
   "cell_type": "code",
   "execution_count": 12,
   "id": "defe4e02",
   "metadata": {},
   "outputs": [],
   "source": [
    "import opencage"
   ]
  },
  {
   "cell_type": "code",
   "execution_count": 13,
   "id": "24c95100",
   "metadata": {},
   "outputs": [],
   "source": [
    "from opencage.geocoder import OpenCageGeocode\n",
    "\n",
    "OCG = OpenCageGeocode('28851aaf28934bd591d52ad45a0a66b1')\n"
   ]
  },
  {
   "cell_type": "code",
   "execution_count": 14,
   "id": "286eb10a",
   "metadata": {},
   "outputs": [
    {
     "data": {
      "text/plain": [
       "{'DMS': {'lat': \"37° 46' 44.49432'' N\", 'lng': \"122° 25' 11.66160'' W\"},\n",
       " 'Maidenhead': 'CM87ss96ox',\n",
       " 'Mercator': {'x': -13627721.599, 'y': 4522077.193},\n",
       " 'address': 'San Francisco, California, United States of America',\n",
       " 'bbox': {'northeast': [-122.281479, 37.929811],\n",
       "  'southwest': [-123.173825, 37.6403143]},\n",
       " 'callingcode': 1,\n",
       " 'city': 'San Francisco',\n",
       " 'city_aliases': 'San Francisco',\n",
       " 'confidence': 1,\n",
       " 'continent': 'North America',\n",
       " 'country': 'United States',\n",
       " 'country_code': 'us',\n",
       " 'geohash': '9q8yym2wc2vvrn3ukm4t',\n",
       " 'lat': 37.7790262,\n",
       " 'lng': -122.419906,\n",
       " 'mgrs': '10SEG5108381456',\n",
       " 'ok': True,\n",
       " 'raw': {'annotations': {'DMS': {'lat': \"37° 46' 44.49432'' N\",\n",
       "    'lng': \"122° 25' 11.66160'' W\"},\n",
       "   'FIPS': {'state': '06'},\n",
       "   'MGRS': '10SEG5108381456',\n",
       "   'Maidenhead': 'CM87ss96ox',\n",
       "   'Mercator': {'x': -13627721.599, 'y': 4522077.193},\n",
       "   'OSM': {'edit_url': 'https://www.openstreetmap.org/edit?relation=111968#map=16/37.77903/-122.41991',\n",
       "    'note_url': 'https://www.openstreetmap.org/note/new#map=16/37.77903/-122.41991&layers=N',\n",
       "    'url': 'https://www.openstreetmap.org/?mlat=37.77903&mlon=-122.41991#map=16/37.77903/-122.41991'},\n",
       "   'UN_M49': {'regions': {'AMERICAS': '019',\n",
       "     'NORTHERN_AMERICA': '021',\n",
       "     'US': '840',\n",
       "     'WORLD': '001'},\n",
       "    'statistical_groupings': ['MEDC']},\n",
       "   'callingcode': 1,\n",
       "   'currency': {'alternate_symbols': ['US$'],\n",
       "    'decimal_mark': '.',\n",
       "    'disambiguate_symbol': 'US$',\n",
       "    'html_entity': '$',\n",
       "    'iso_code': 'USD',\n",
       "    'iso_numeric': '840',\n",
       "    'name': 'United States Dollar',\n",
       "    'smallest_denomination': 1,\n",
       "    'subunit': 'Cent',\n",
       "    'subunit_to_unit': 100,\n",
       "    'symbol': '$',\n",
       "    'symbol_first': 1,\n",
       "    'thousands_separator': ','},\n",
       "   'flag': '🇺🇸',\n",
       "   'geohash': '9q8yym2wc2vvrn3ukm4t',\n",
       "   'qibla': 18.84,\n",
       "   'roadinfo': {'drive_on': 'right', 'speed_in': 'mph'},\n",
       "   'sun': {'rise': {'apparent': 1690549860,\n",
       "     'astronomical': 1690543620,\n",
       "     'civil': 1690548120,\n",
       "     'nautical': 1690545960},\n",
       "    'set': {'apparent': 1690514460,\n",
       "     'astronomical': 1690520700,\n",
       "     'civil': 1690516200,\n",
       "     'nautical': 1690518360}},\n",
       "   'timezone': {'name': 'America/Los_Angeles',\n",
       "    'now_in_dst': 1,\n",
       "    'offset_sec': -25200,\n",
       "    'offset_string': '-0700',\n",
       "    'short_name': 'PDT'},\n",
       "   'what3words': {'words': 'when.stacks.script'},\n",
       "   'wikidata': 'Q62'},\n",
       "  'bounds': {'northeast': {'lat': 37.929811, 'lng': -122.281479},\n",
       "   'southwest': {'lat': 37.6403143, 'lng': -123.173825}},\n",
       "  'components': {'ISO_3166-1_alpha-2': 'US',\n",
       "   'ISO_3166-1_alpha-3': 'USA',\n",
       "   'ISO_3166-2': ['US-CA'],\n",
       "   '_category': 'place',\n",
       "   '_type': 'city',\n",
       "   'city': 'San Francisco',\n",
       "   'continent': 'North America',\n",
       "   'country': 'United States',\n",
       "   'country_code': 'us',\n",
       "   'state': 'California',\n",
       "   'state_code': 'CA'},\n",
       "  'confidence': 1,\n",
       "  'formatted': 'San Francisco, California, United States of America',\n",
       "  'geometry': {'lat': 37.7790262, 'lng': -122.419906}},\n",
       " 'state': 'California',\n",
       " 'state_aliases': 'California',\n",
       " 'state_code': 'CA',\n",
       " 'status': 'OK',\n",
       " 'town': 'San Francisco',\n",
       " 'w3w': 'when.stacks.script'}"
      ]
     },
     "execution_count": 14,
     "metadata": {},
     "output_type": "execute_result"
    }
   ],
   "source": [
    "import geocoder\n",
    "g = geocoder.opencage('San Francisco, CA', key='28851aaf28934bd591d52ad45a0a66b1')\n",
    "g.json"
   ]
  },
  {
   "cell_type": "code",
   "execution_count": 15,
   "id": "ba8402f1",
   "metadata": {},
   "outputs": [],
   "source": [
    "def geocode_company(org):\n",
    "    \n",
    "    api_key = \"feecb3f7edc84718a351e579606425e8\"\n",
    "    geocoder = OpenCageGeocode(api_key)\n",
    "\n",
    "    try:\n",
    "        result = geocoder.geocode(org)\n",
    "        if result and len(result):\n",
    "            latitude = result[0]['geometry']['lat']\n",
    "            longitude = result[0]['geometry']['lng']\n",
    "            return latitude, longitude\n",
    "    except Exception as e:\n",
    "        print(f\"Error geocoding {org}: {e}\")\n",
    "\n",
    "    return None, None"
   ]
  },
  {
   "cell_type": "code",
   "execution_count": 52,
   "id": "6f60d436",
   "metadata": {},
   "outputs": [
    {
     "name": "stdout",
     "output_type": "stream",
     "text": [
      "Error geocoding 4                                   Wipro Technologies\n",
      "5                                    Norwin Technology\n",
      "6                                 Ameyacloud Solutions\n",
      "8                                    Akshera Yuva Kids\n",
      "13            ZF Rane Automotive India Private Limited\n",
      "14               Suven Consultants and Technology Pvt.\n",
      "15    Bishop Heber College, Tiruchirappalli - 620 017.\n",
      "17                              V R Della Infotech INC\n",
      "22                                       SYNC INTERN'S\n",
      "27                                     Larsen & Toubro\n",
      "28                                      Oasis Infobyte\n",
      "30              Indian Institute of Technology, Madras\n",
      "31                               MENMOZHI TECHNOLOGIES\n",
      "32    Bishop Heber College, Tiruchirappalli - 620 017.\n",
      "34                 Manipal Health Enterprises Pvt. Ltd\n",
      "36               Everlast Wellness Medical Center EWMC\n",
      "37                                Bishop Heber College\n",
      "39                                     Astellas Pharma\n",
      "41    Bishop Heber College, Tiruchirappalli - 620 017.\n",
      "42                                        Zuci Systems\n",
      "43                                         MedTourEasy\n",
      "44    Bishop Heber College, Tiruchirappalli - 620 017.\n",
      "46           International Journal of Computer Science\n",
      "47                                    Innova Solutions\n",
      "48                                          iNeuron.ai\n",
      "49                                           Infoziant\n",
      "50    Bishop Heber College, Tiruchirappalli - 620 017.\n",
      "51    Bishop Heber College, Tiruchirappalli - 620 017.\n",
      "52    Bishop Heber College, Tiruchirappalli - 620 017.\n",
      "57                                    Innova Solutions\n",
      "60               COZYSTAY TECHNOLOGIES PRIVATE LIMITED\n",
      "61                                Nitroware Technology\n",
      "62                               MENMOZHI TECHNOLOGIES\n",
      "63                                    Actify Data Labs\n",
      "64           STERIL-GENE LIFE SCIENCES PRIVATE LIMITED\n",
      "65                      Colan Infotech Private Limited\n",
      "69      Besten Engineers and Consultants India Pvt Ltd\n",
      "71                                     Googla InfoTech\n",
      "72                                          Calibraint\n",
      "Name: Company, dtype: object: Input must be a unicode string, not 4                                   Wipro Technologies\n",
      "5                                    Norwin T\n"
     ]
    },
    {
     "data": {
      "text/plain": [
       "(None, None)"
      ]
     },
     "execution_count": 52,
     "metadata": {},
     "output_type": "execute_result"
    }
   ],
   "source": [
    "loc=geocode_company(data['Company'])\n",
    "loc"
   ]
  },
  {
   "cell_type": "markdown",
   "id": "052422ff",
   "metadata": {},
   "source": [
    "#### Visualize using Geocoder"
   ]
  },
  {
   "cell_type": "code",
   "execution_count": 17,
   "id": "f899b507",
   "metadata": {},
   "outputs": [],
   "source": [
    "import folium\n",
    "import geocoder"
   ]
  },
  {
   "cell_type": "code",
   "execution_count": 51,
   "id": "addef0f0",
   "metadata": {},
   "outputs": [],
   "source": [
    "map_center = [data['Latitude'].mean(), data['Longitude'].mean()]\n",
    "map = folium.Map(location=map_center, zoom_start=10)\n",
    "\n",
    "data['Latitude'], data['Longitude'] = zip(*data['Company'].apply(geocode_company))\n",
    "\n",
    "for index, row in data.iterrows():\n",
    "    if pd.notna(row['Latitude']) and pd.notna(row['Longitude']):\n",
    "        folium.Marker(location=[row['Latitude'], row['Longitude']],\n",
    "        popup=row['Company'],\n",
    "        icon=folium.Icon(icon='cloud')\n",
    "    ).add_to(map)\n",
    "        \n",
    "map_connections.save(\"connections_map.html\")        "
   ]
  },
  {
   "cell_type": "markdown",
   "id": "b43c6620",
   "metadata": {},
   "source": [
    "#### Visulize using Matplot"
   ]
  },
  {
   "cell_type": "code",
   "execution_count": 32,
   "id": "b373371d",
   "metadata": {},
   "outputs": [],
   "source": [
    "import matplotlib.pyplot as plt"
   ]
  },
  {
   "cell_type": "code",
   "execution_count": 44,
   "id": "76beab81",
   "metadata": {},
   "outputs": [
    {
     "name": "stderr",
     "output_type": "stream",
     "text": [
      "No artists with labels found to put in legend.  Note that artists whose label start with an underscore are ignored when legend() is called with no argument.\n"
     ]
    },
    {
     "data": {
      "image/png": "[encoded data removed]",
      "text/plain": [
       "<Figure size 576x432 with 1 Axes>"
      ]
     },
     "metadata": {
      "needs_background": "light"
     },
     "output_type": "display_data"
    }
   ],
   "source": [
    "plt.figure(figsize=(8, 6))\n",
    "plt.scatter(data['Longitude'], data['Latitude'], color='red',marker='o', alpha=0.7)\n",
    "\n",
    "# Connect the locations with lines\n",
    "for i in range(len(data) - 1):\n",
    "    plt.plot([data['Longitude'].iloc[i], data['Longitude'].iloc[i+1]],\n",
    "             [data['Latitude'].iloc[i], data['Latitude'].iloc[i+1]], color='blue')\n",
    "\n",
    "\n",
    "plt.xlabel('Longitude')\n",
    "plt.ylabel('Latitude')\n",
    "plt.title('Connections Map using Matplotlib')\n",
    "plt.legend()\n",
    "plt.grid(True)\n",
    "plt.show()\n",
    "\n",
    "\n"
   ]
  },
  {
   "cell_type": "code",
   "execution_count": null,
   "id": "eef167d8",
   "metadata": {},
   "outputs": [],
   "source": []
  }
 ],
 "metadata": {
  "kernelspec": {
   "display_name": "Python 3 (ipykernel)",
   "language": "python",
   "name": "python3"
  },
  "language_info": {
   "codemirror_mode": {
    "name": "ipython",
    "version": 3
   },
   "file_extension": ".py",
   "mimetype": "text/x-python",
   "name": "python",
   "nbconvert_exporter": "python",
   "pygments_lexer": "ipython3",
   "version": "3.9.13"
  }
 },
 "nbformat": 4,
 "nbformat_minor": 5
}
